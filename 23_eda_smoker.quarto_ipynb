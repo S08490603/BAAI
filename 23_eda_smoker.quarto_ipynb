{
  "cells": [
    {
      "cell_type": "markdown",
      "metadata": {},
      "source": [
        "---\n",
        "title: 'EDA'\n",
        "author: 'Hansen'\n",
        "format: revealjs\n",
        "---\n",
        "\n",
        "\n",
        "## Load data\n"
      ],
      "id": "ca5b6c5c"
    },
    {
      "cell_type": "code",
      "metadata": {},
      "source": [
        "import pandas as pd\n",
        "dataset = pd.read_csv('smoker.csv')"
      ],
      "id": "dbb3ae83",
      "execution_count": null,
      "outputs": []
    },
    {
      "cell_type": "markdown",
      "metadata": {},
      "source": [
        "## Inspect structure\n"
      ],
      "id": "a5c21b5d"
    },
    {
      "cell_type": "code",
      "metadata": {},
      "source": [
        "dataset.shape"
      ],
      "id": "30f45c69",
      "execution_count": null,
      "outputs": []
    },
    {
      "cell_type": "code",
      "metadata": {},
      "source": [
        "dataset.info()"
      ],
      "id": "09a6a807",
      "execution_count": null,
      "outputs": []
    },
    {
      "cell_type": "markdown",
      "metadata": {},
      "source": [
        "## Inspect Value\n"
      ],
      "id": "77018de1"
    },
    {
      "cell_type": "code",
      "metadata": {},
      "source": [
        "dataset.head()"
      ],
      "id": "1f235c92",
      "execution_count": null,
      "outputs": []
    },
    {
      "cell_type": "markdown",
      "metadata": {},
      "source": [
        "---\n"
      ],
      "id": "3d592403"
    },
    {
      "cell_type": "code",
      "metadata": {},
      "source": [
        "dataset.tail()"
      ],
      "id": "bc1b7952",
      "execution_count": null,
      "outputs": []
    },
    {
      "cell_type": "markdown",
      "metadata": {},
      "source": [
        "## Statistic\n"
      ],
      "id": "8f54b77f"
    },
    {
      "cell_type": "code",
      "metadata": {},
      "source": [
        "dataset.describe(). round(2)"
      ],
      "id": "2eccecb3",
      "execution_count": null,
      "outputs": []
    },
    {
      "cell_type": "markdown",
      "metadata": {},
      "source": [
        "## Histogram\n"
      ],
      "id": "f80845d8"
    },
    {
      "cell_type": "code",
      "metadata": {},
      "source": [
        "import matplotlib.pyplot as plt\n",
        "dataset = pd.read_csv('smoker.csv'). hist()\n",
        "plt.show()"
      ],
      "id": "fd38f301",
      "execution_count": null,
      "outputs": []
    }
  ],
  "metadata": {
    "kernelspec": {
      "display_name": "Python 3",
      "language": "python",
      "name": "python3"
    }
  },
  "nbformat": 4,
  "nbformat_minor": 5
}